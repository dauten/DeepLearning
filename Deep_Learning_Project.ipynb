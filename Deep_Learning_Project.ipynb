{
  "nbformat": 4,
  "nbformat_minor": 0,
  "metadata": {
    "colab": {
      "name": "Deep Learning Project",
      "provenance": [],
      "collapsed_sections": [],
      "toc_visible": true,
      "include_colab_link": true
    },
    "kernelspec": {
      "name": "python3",
      "display_name": "Python 3"
    }
  },
  "cells": [
    {
      "cell_type": "markdown",
      "metadata": {
        "id": "view-in-github",
        "colab_type": "text"
      },
      "source": [
        "<a href=\"https://colab.research.google.com/github/dauten/DeepLearning/blob/develop/Deep_Learning_Project.ipynb\" target=\"_parent\"><img src=\"https://colab.research.google.com/assets/colab-badge.svg\" alt=\"Open In Colab\"/></a>"
      ]
    },
    {
      "cell_type": "code",
      "metadata": {
        "id": "K7aD-vrJeyW0",
        "colab_type": "code",
        "colab": {}
      },
      "source": [
        "from __future__ import absolute_import, division, print_function\n",
        "\n",
        "import time\n",
        "import os\n",
        "\n",
        "# TensorFlow and tf.keras\n",
        "import tensorflow as tf\n",
        "from tensorflow import keras\n",
        "\n",
        "# Helper libraries\n",
        "import numpy as np\n",
        "import matplotlib.pyplot as plt"
      ],
      "execution_count": 0,
      "outputs": []
    },
    {
      "cell_type": "code",
      "metadata": {
        "colab_type": "code",
        "id": "8G7NG1MesIlO",
        "colab": {}
      },
      "source": [
        "'''\n",
        "Given an array of training data and an array of labels, return a model that fits\n",
        "that data within (currently hardcoded) parameters\n",
        "\n",
        "data should be a list of char array's, labels should be a numeric identifier or quality\n",
        "'''\n",
        "def train(data, labels, file):\n",
        "  print(tf.__version__)\n",
        "  N = 0 #This is the item length, we need to find number of input edges\n",
        "  for each in data:\n",
        "    if len(each) > N:\n",
        "      N = len(each)\n",
        "\n",
        "  M = 0 #This is the item length, we need to find number of input edges\n",
        "  for each in labels:\n",
        "    if each > M:\n",
        "      M = each\n",
        "\n",
        "  #this does more processing to the image, cconverting it from a 28x28 matrix to a 784 length array.\n",
        "  #the dense commands actually create neurons/nodes\n",
        "  model = keras.Sequential([keras.layers.Flatten(input_shape=((N,))),\n",
        "      keras.layers.Dense(256, activation=tf.nn.relu), keras.layers.Dense(256, activation=tf.nn.relu), keras.layers.Dense(256, activation=tf.nn.relu),\n",
        "      keras.layers.Dense(M+1, activation=tf.nn.softmax)])\n",
        "\n",
        "  #this tells the neural net how to update things for training\n",
        "  model.compile(optimizer='adam', loss='sparse_categorical_crossentropy', metrics=['accuracy'])\n",
        "\n",
        "\n",
        "  #convert data and labels to ndarrays D and L\n",
        "  train_images = np.ndarray((len(data), N))\n",
        "  train_labels = np.ndarray((len(labels)))\n",
        "  k = 0\n",
        "  for i in data:\n",
        "      q = 0\n",
        "      for j in i:\n",
        "        train_images[k][q] = ord(j)\n",
        "        q+=1\n",
        "      k+=1\n",
        "\n",
        "  k = 0\n",
        "  for l in labels:\n",
        "      print(l)\n",
        "      train_labels[k] = l\n",
        "      k+=1\n",
        "\n",
        "  print(\"Images:\")\n",
        "  print(train_images)\n",
        "  print(\"Labels:\")\n",
        "  print(train_labels)\n",
        "\n",
        "  #this is the actual 'train' step\n",
        "  #you can play with epochs, increasing it takes longer but provides slightly more accuracy\n",
        "  model.fit(train_images, train_labels, epochs=50)\n",
        "\n",
        "  print(model.predict(train_images))\n",
        "\n",
        "  model.save(file)\n",
        "\n",
        "  return N"
      ],
      "execution_count": 0,
      "outputs": []
    },
    {
      "cell_type": "code",
      "metadata": {
        "id": "ePSK94vvX6IY",
        "colab_type": "code",
        "colab": {}
      },
      "source": [
        "'''\n",
        "Given a set of test data, return predictions from the (currently hardcoded) model\n",
        "'''\n",
        "def evaluate(test,pad,file):\n",
        "\n",
        "  N = 0 #This is the item length, we need to find number of input edges\n",
        "  for each in test:\n",
        "    if len(each) > N:\n",
        "      N = len(each)\n",
        "\n",
        "  #convert data and labels to ndarrays D and L\n",
        "  train_images = np.ndarray((len(test), pad))\n",
        "  k = 0\n",
        "  for i in test:\n",
        "      q = 0\n",
        "      for j in i:\n",
        "        train_images[k][q] = ord(j)\n",
        "        q+=1\n",
        "      k+=1\n",
        "  model =  keras.models.load_model(file)\n",
        "\n",
        "  print(model.predict(train_images))\n",
        "\n"
      ],
      "execution_count": 0,
      "outputs": []
    },
    {
      "cell_type": "code",
      "metadata": {
        "id": "ibnfSM1bkyoB",
        "colab_type": "code",
        "colab": {}
      },
      "source": [
        "def fin(filedir):\n",
        "  #give a filedirectory, go through it to return tuple of data and labels\n",
        "  #should consider each folder in filedir/ to be a new identifier (so len(labels)->150)\n",
        "  #with the content of each file being the data\n",
        "  return (None, None) #(data, labels)"
      ],
      "execution_count": 0,
      "outputs": []
    },
    {
      "cell_type": "code",
      "metadata": {
        "id": "06lAVcuQ1lcE",
        "colab_type": "code",
        "colab": {}
      },
      "source": [
        "print(\"starting:\")\n",
        "pad = train([list(\"dear bob, this is jason\"),list(\"this is also jason\"),list(\"this is bob\"), list(\"Hi Jason And BoB\"), list(\"It Is Me\"), list(\"Still ME\"), list(\"NoT TeM BuT ME\"), list(\"bob\"), list(\"b\"), list(\"hello peeps its jason\")], [0,0,1,2, 2, 2, 2, 1, 1,0], \"placeholder.h5\")"
      ],
      "execution_count": 0,
      "outputs": []
    },
    {
      "cell_type": "code",
      "metadata": {
        "id": "TJoE7Z2KpLw2",
        "colab_type": "code",
        "colab": {
          "base_uri": "https://localhost:8080/",
          "height": 139
        },
        "outputId": "b46f6c88-24a2-4591-f904-461102b6965f"
      },
      "source": [
        "#A note on the lengths: I seem to be getting bad results when N is much larger than the avg message size!\n",
        "print(\"evaluating: (the super hot matix should be 0, 2, 0, 0, 1, 1)\")\n",
        "evaluate([list(\"w/y doing signed jason\"), list(\"it is me signed me\"), list(\"dear bob, still jason\"),list(\"yet again I'm jason\"),list(\"me is bob\"),list(\"thii is bob\")], pad, \"placeholder.h5\")"
      ],
      "execution_count": 318,
      "outputs": [
        {
          "output_type": "stream",
          "text": [
            "evaluating: (the super hot matix should be 0, 2, 0, 0, 1, 1)\n",
            "[[1.0000000e+00 2.1678396e-23 8.6541566e-29]\n",
            " [          nan           nan           nan]\n",
            " [1.0000000e+00 1.1891095e-26 0.0000000e+00]\n",
            " [1.0000000e+00 2.8520799e-18 7.2779111e-31]\n",
            " [0.0000000e+00 2.9431720e-13 1.0000000e+00]\n",
            " [0.0000000e+00 1.0000000e+00 2.0052928e-21]]\n"
          ],
          "name": "stdout"
        }
      ]
    },
    {
      "cell_type": "code",
      "metadata": {
        "id": "BrOLLpiQ0eim",
        "colab_type": "code",
        "colab": {}
      },
      "source": [
        "#once fin is implemented and the files are in place this block should\n",
        "#work to train and evaluate our NN :)\n",
        "data,labels = fin(\"enron_train/\")\n",
        "pad = train(data, labels, \"enron.h5\")\n",
        "data,labels = fin(\"enron_test/\")\n",
        "evaluate(data, pad, \"enron.h5\")"
      ],
      "execution_count": 0,
      "outputs": []
    }
  ]
}